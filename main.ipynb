{
 "cells": [
  {
   "cell_type": "code",
   "execution_count": 12,
   "metadata": {
    "collapsed": true
   },
   "outputs": [],
   "source": [
    "from numba import jit\n",
    "import numpy as np\n",
    "import matplotlib.pyplot as plt\n",
    "from copy import deepcopy\n"
   ]
  },
  {
   "cell_type": "code",
   "execution_count": 13,
   "metadata": {
    "collapsed": true
   },
   "outputs": [],
   "source": [
    "def init(N):\n",
    "    return np.random.choice([-1, 1], N)\n",
    "\n",
    "\n",
    "def gen_neigh(L):\n",
    "    N = L**2\n",
    "\n",
    "    neigh = np.empty((N, 4), dtype=np.int16)\n",
    "\n",
    "    for i in range(N):\n",
    "        if i % L == L - 1:  # dir\n",
    "            right = i - L + 1\n",
    "        else:\n",
    "            right = i + 1\n",
    "\n",
    "        neigh[i][0] = right\n",
    "\n",
    "        if i >= (L**2) - L:  # cima\n",
    "            up = i - N + L\n",
    "        else:\n",
    "            up = i + L\n",
    "\n",
    "        neigh[i][1] = up\n",
    "\n",
    "        if i % L == 0:  # esq\n",
    "            left = i + L - 1\n",
    "        else:\n",
    "            left = i - 1\n",
    "\n",
    "        neigh[i][2] = left\n",
    "\n",
    "        if i < L:  # baixo\n",
    "            down = i + N - L\n",
    "        else:\n",
    "            down = i - L\n",
    "\n",
    "        neigh[i][3] = down\n",
    "\n",
    "    return neigh\n",
    "\n",
    "\n",
    "@jit(nopython=True)\n",
    "def rand_site(N):\n",
    "    return np.random.choice(np.array(range(N)))\n",
    "\n",
    "\n",
    "@jit(nopython=True)\n",
    "def calc_energy(spins, neigh):\n",
    "    sum = 0\n",
    "\n",
    "    for i in spins:\n",
    "        neigh_i = neigh[i][0:2]\n",
    "\n",
    "        for j in neigh_i:\n",
    "            sum -= spins[i] * spins[j]\n",
    "\n",
    "    return sum\n",
    "\n",
    "\n",
    "# energy difference when i is flipped\n",
    "@jit(nopython=True)\n",
    "def en_diff(i, energy, spins, neigh):\n",
    "    sum = 0\n",
    "\n",
    "    for j in neigh[i]:\n",
    "        sum += spins[j]\n",
    "\n",
    "    delta = 2 * spins[i] * sum\n",
    "\n",
    "    return delta\n",
    "\n",
    "\n",
    "@jit(nopython=True)\n",
    "def get_expos(T):\n",
    "    expos = np.zeros(5, dtype=np.float32)\n",
    "    expos[0] = np.exp(8 / T)\n",
    "    expos[1] = np.exp(4 / T)\n",
    "    expos[2] = 1\n",
    "    expos[3] = np.exp(-4 / T)\n",
    "    expos[4] = np.exp(-8 / T)\n",
    "\n",
    "    return expos\n",
    "\n",
    "\n",
    "@jit(nopython=True)\n",
    "def mc_step(spins, energy, neigh):\n",
    "    for i in range(N):\n",
    "        delta_e = en_diff(i, energy, spins, neigh)\n",
    "        \n",
    "        de = int(delta_e*0.25 + 2)\n",
    "        P = expos[de]\n",
    "        r = np.random.rand()\n",
    "\n",
    "        if r <= P:\n",
    "            spins[i] = -spins[i]\n",
    "            energy += delta_e\n",
    "\n",
    "    return spins, energy\n"
   ]
  },
  {
   "cell_type": "code",
   "execution_count": 14,
   "metadata": {},
   "outputs": [
    {
     "name": "stdout",
     "output_type": "stream",
     "text": [
      "en: 0\n",
      "en mc -776\n",
      "en calc -1010 \n",
      "\n",
      "\n",
      "en mc -1474\n",
      "en calc -2048 \n",
      "\n",
      "\n",
      "en mc -2256\n",
      "en calc 1092 \n",
      "\n",
      "\n"
     ]
    }
   ],
   "source": [
    "L = 32\n",
    "N = L**2\n",
    "T = 1.5\n",
    "neigh = gen_neigh(L)\n",
    "expos = get_expos(T)\n",
    "\n",
    "spins = init(N)\n",
    "energy = calc_energy(spins, neigh)\n",
    "\n",
    "print('en:', energy)\n",
    "\n",
    "spins, energy = mc_step(spins, energy, neigh)\n",
    "print('en mc', energy)\n",
    "energy = calc_energy(spins, neigh)\n",
    "print('en calc', energy, '\\n\\n')\n",
    "\n",
    "spins, energy = mc_step(spins, energy, neigh)\n",
    "print('en mc', energy)\n",
    "energy = calc_energy(spins, neigh)\n",
    "print('en calc', energy, '\\n\\n')\n",
    "\n",
    "spins, energy = mc_step(spins, energy, neigh)\n",
    "print('en mc', energy)\n",
    "energy = calc_energy(spins, neigh)\n",
    "print('en calc', energy, '\\n\\n')"
   ]
  },
  {
   "cell_type": "code",
   "execution_count": 15,
   "metadata": {},
   "outputs": [
    {
     "data": {
      "image/png": "[encoded data removed]",
      "text/plain": [
       "<matplotlib.figure.Figure at 0x299097b1208>"
      ]
     },
     "metadata": {},
     "output_type": "display_data"
    }
   ],
   "source": [
    "L = 32\n",
    "N = L**2\n",
    "T = 1.5\n",
    "neigh = gen_neigh(L)\n",
    "expos = get_expos(T)\n",
    "\n",
    "fig, ax = plt.subplots()\n",
    "ax.set_xlabel(\"Monte Carlo steps\")\n",
    "ax.set_ylabel(\"Energy\")\n",
    "\n",
    "for i in range(2):\n",
    "    spins = init(N)\n",
    "    energy = calc_energy(spins, neigh)\n",
    "\n",
    "    energies = []\n",
    "\n",
    "    for _ in range(1000):\n",
    "        spins, energy = mc_step(spins, energy, neigh)\n",
    "\n",
    "        energies.append(energy)\n",
    "\n",
    "    ax.plot(energies)\n",
    "\n",
    "plt.show()"
   ]
  }
 ],
 "metadata": {
  "kernelspec": {
   "display_name": "Python 3",
   "language": "python",
   "name": "python3"
  },
  "language_info": {
   "codemirror_mode": {
    "name": "ipython",
    "version": 3
   },
   "file_extension": ".py",
   "mimetype": "text/x-python",
   "name": "python",
   "nbconvert_exporter": "python",
   "pygments_lexer": "ipython3",
   "version": "3.6.3"
  },
  "vscode": {
   "interpreter": {
    "hash": "4d470833ec03819ced3acee81c218a080c7af3db805cbed48a459ed3c4a9a195"
   }
  }
 },
 "nbformat": 4,
 "nbformat_minor": 2
}
