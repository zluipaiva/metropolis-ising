{
 "cells": [
  {
   "cell_type": "code",
   "execution_count": 2,
   "metadata": {
    "collapsed": true
   },
   "outputs": [],
   "source": [
    "import numpy as np\n",
    "import matplotlib as plt"
   ]
  },
  {
   "cell_type": "code",
   "execution_count": 4,
   "metadata": {},
   "outputs": [
    {
     "name": "stdout",
     "output_type": "stream",
     "text": [
      "2\n"
     ]
    }
   ],
   "source": [
    "def up(i):\n",
    "    is_boundary(i)"
   ]
  },
  {
   "cell_type": "code",
   "execution_count": 27,
   "metadata": {},
   "outputs": [
    {
     "name": "stdout",
     "output_type": "stream",
     "text": [
      "[[ 1  5  4 20]\n",
      " [ 2  6  0 21]\n",
      " [ 3  7  1 22]\n",
      " [ 4  8  2 23]\n",
      " [ 0  9  3 24]\n",
      " [ 6 10  9  0]\n",
      " [ 7 11  5  1]\n",
      " [ 8 12  6  2]\n",
      " [ 9 13  7  3]\n",
      " [ 5 14  8  4]\n",
      " [11 15 14  5]\n",
      " [12 16 10  6]\n",
      " [13 17 11  7]\n",
      " [14 18 12  8]\n",
      " [10 19 13  9]\n",
      " [16 20 19 10]\n",
      " [17 21 15 11]\n",
      " [18 22 16 12]\n",
      " [19 23 17 13]\n",
      " [15 24 18 14]\n",
      " [21  0 24 15]\n",
      " [22  1 20 16]\n",
      " [23  2 21 17]\n",
      " [24  3 22 18]\n",
      " [20  4 23 19]]\n"
     ]
    }
   ],
   "source": [
    "L = 5\n",
    "N = L ** 2\n",
    "\n",
    "elements = np.zeros(N)\n",
    "\n",
    "viz = np.empty((N, 4), dtype=np.int16)\n",
    "\n",
    "for i in range(N):\n",
    "    if (i % L == L - 1): # dir\n",
    "        right = i - L + 1\n",
    "    else:\n",
    "        right = i + 1\n",
    "\n",
    "    viz[i][0] = right\n",
    "\n",
    "    if (i >= (L ** 2) - L): # cima\n",
    "        up = i - N + L\n",
    "    else:\n",
    "        up = i + L\n",
    "\n",
    "    viz[i][1] = up\n",
    "    \n",
    "    if (i % L == 0): # esq\n",
    "        left = i + L - 1\n",
    "    else:\n",
    "        left = i - 1\n",
    "        \n",
    "    viz[i][2] = left\n",
    "    \n",
    "    if (i < L): # baixo\n",
    "        down = i + N - L\n",
    "    else:\n",
    "        down = i - L\n",
    "\n",
    "    viz[i][3] = down\n",
    "    \n",
    "print(viz)"
   ]
  }
 ],
 "metadata": {
  "kernelspec": {
   "display_name": "Python 3",
   "language": "python",
   "name": "python3"
  },
  "language_info": {
   "codemirror_mode": {
    "name": "ipython",
    "version": 3
   },
   "file_extension": ".py",
   "mimetype": "text/x-python",
   "name": "python",
   "nbconvert_exporter": "python",
   "pygments_lexer": "ipython3",
   "version": "3.6.3"
  }
 },
 "nbformat": 4,
 "nbformat_minor": 2
}
